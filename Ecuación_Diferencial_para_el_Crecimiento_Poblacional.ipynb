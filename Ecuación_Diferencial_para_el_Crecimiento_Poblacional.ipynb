{
  "nbformat": 4,
  "nbformat_minor": 0,
  "metadata": {
    "colab": {
      "private_outputs": true,
      "provenance": [],
      "authorship_tag": "ABX9TyNodC6aBB3oPX/60mFrJ498",
      "include_colab_link": true
    },
    "kernelspec": {
      "name": "python3",
      "display_name": "Python 3"
    },
    "language_info": {
      "name": "python"
    }
  },
  "cells": [
    {
      "cell_type": "markdown",
      "metadata": {
        "id": "view-in-github",
        "colab_type": "text"
      },
      "source": [
        "<a href=\"https://colab.research.google.com/github/WellcomePeujio/Ecuacion-Diferencial-para-el-Crecimiento-Poblacional/blob/main/Ecuaci%C3%B3n_Diferencial_para_el_Crecimiento_Poblacional.ipynb\" target=\"_parent\"><img src=\"https://colab.research.google.com/assets/colab-badge.svg\" alt=\"Open In Colab\"/></a>"
      ]
    },
    {
      "cell_type": "markdown",
      "source": [
        "# Ecuación Diferencial para el Crecimiento Poblacional\n",
        "\n",
        "## Problema\n",
        "El crecimiento poblacional de una ciudad se modela con la siguiente ecuación diferencial:\n",
        "\n",
        "$$\n",
        "\\frac{dP}{dt} = 0.03P\n",
        "$$\n",
        "Donde:\n",
        "- \\$( P \\$) es la población.\n",
        "- \\$( t \\$) es el tiempo en años.\n",
        "\n",
        "La población inicial es de 50,000 habitantes.\n",
        "\n",
        "## Preguntas\n",
        "1. Resuelve la ecuación diferencial para encontrar la población en función del tiempo.\n",
        "2. ¿Cuál será la población dentro de 10 años?\n",
        "\n"
      ],
      "metadata": {
        "id": "vYTgimNkNX_z"
      }
    },
    {
      "cell_type": "markdown",
      "source": [
        "# Resolución Matemática\n",
        "\n",
        "## Paso 1: Plantear la Ecuación Diferencial\n",
        "\n",
        "La ecuación diferencial que modela el crecimiento poblacional es:\n",
        "\n",
        "$$\n",
        "\\frac{dP}{dt} = 0.03P\n",
        "$$\n",
        "\n",
        "Donde:\n",
        "- \\$( P \\$) es la población.\n",
        "- \\$( t \\$) es el tiempo en años.\n",
        "- \\$( \\frac{dP}{dt} \\$) representa la tasa de cambio de la población con respecto al tiempo.\n",
        "\n",
        "## Paso 2: Resolver la Ecuación Diferencial\n",
        "\n",
        "Para resolver la ecuación diferencial, separamos las variables y usamos integración:\n",
        "\n",
        "$$\n",
        "\\frac{1}{P} \\, dP = 0.03 \\, dt\n",
        "$$\n",
        "\n",
        "Integrando ambos lados:\n",
        "\n",
        "$$\n",
        "\\int \\frac{1}{P} \\, dP = \\int 0.03 \\, dt\n",
        "$$\n",
        "\n",
        "Esto nos da:\n",
        "\n",
        "$$\n",
        "\\ln |P| = 0.03t + C\n",
        "$$\n",
        "\n",
        "Donde \\$( C \\$) es la constante de integración.\n",
        "\n",
        "## Paso 3: Encontrar la Solución General\n",
        "\n",
        "Para despejar \\$( P \\$), aplicamos la exponencial a ambos lados:\n",
        "\n",
        "$$\n",
        "P = e^{0.03t + C} = e^C \\cdot e^{0.03t}\n",
        "$$\n",
        "\n",
        "Denotamos \\$( e^C \\$) como \\$( P_0 \\$), que es la población inicial. Entonces, la solución general es:\n",
        "\n",
        "$$\n",
        "P(t) = P_0 \\cdot e^{0.03t}\n",
        "$$\n",
        "\n",
        "## Paso 4: Determinar la Constante \\$( P_0 \\$)\n",
        "\n",
        "Dado que la población inicial es \\$( P_0 = 50000 \\$):\n",
        "\n",
        "$$\n",
        "P(t) = 50000 \\cdot e^{0.03t}\n",
        "$$\n",
        "\n",
        "## Paso 5: Calcular la Población dentro de 10 Años\n",
        "\n",
        "Sustituyendo \\$( t = 10 \\$):\n",
        "\n",
        "$$\n",
        "P(10) = 50000 \\cdot e^{0.03 \\times 10}\n",
        "$$\n",
        "\n",
        "Simplificando:\n",
        "\n",
        "$$\n",
        "P(10) = 50000 \\cdot e^{0.3}\n",
        "$$\n",
        "\n",
        "## Paso 6: Resultado Final\n",
        "\n",
        "La población dentro de 10 años será aproximadamente:\n",
        "\n",
        "$$\n",
        "P(10) \\approx 50000 \\cdot 1.34986 \\approx 67493 \\text{ habitantes}\n",
        "$$"
      ],
      "metadata": {
        "id": "KiXxlDdhOVGh"
      }
    },
    {
      "cell_type": "code",
      "source": [
        "import numpy as np\n",
        "import matplotlib.pyplot as plt\n",
        "\n",
        "# Parámetros del problema\n",
        "P0 = 50000  # Población inicial\n",
        "growth_rate = 0.03  # Tasa de crecimiento\n",
        "\n",
        "# Definición de la función de crecimiento poblacional\n",
        "def population_growth(t, P0, rate):\n",
        "    return P0 * np.exp(rate * t)\n",
        "\n",
        "# Generar datos de tiempo (en años) y calcular población\n",
        "time = np.linspace(0, 20, 100)  # Tiempo de 0 a 20 años\n",
        "population = population_growth(time, P0, growth_rate)\n",
        "\n",
        "# Calcular la población en 10 años\n",
        "P_10 = population_growth(10, P0, growth_rate)\n",
        "\n",
        "# Graficar la solución\n",
        "plt.figure(figsize=(12, 6))\n",
        "plt.plot(time, population, label='Crecimiento de la Población', color='blue', linewidth=2)\n",
        "plt.axvline(x=10, linestyle='--', color='red', label=f'Población a 10 años: {P_10:.0f}')\n",
        "plt.scatter(10, P_10, color='red', s=100)  # Marca en el punto de 10 años\n",
        "plt.title('Modelo de Crecimiento Poblacional')\n",
        "plt.xlabel('Tiempo (años)')\n",
        "plt.ylabel('Población')\n",
        "plt.legend()\n",
        "plt.grid()\n",
        "plt.show()"
      ],
      "metadata": {
        "id": "PAvyr9PkPDGr"
      },
      "execution_count": null,
      "outputs": []
    }
  ]
}